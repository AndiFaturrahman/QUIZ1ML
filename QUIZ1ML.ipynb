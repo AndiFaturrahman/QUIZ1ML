{
 "cells": [
  {
   "cell_type": "code",
   "execution_count": 1,
   "metadata": {},
   "outputs": [
    {
     "name": "stdout",
     "output_type": "stream",
     "text": [
      "Requirement already satisfied: scikit-Image in c:\\users\\user\\appdata\\local\\programs\\python\\python312\\lib\\site-packages (0.22.0)\n",
      "Requirement already satisfied: numpy>=1.22 in c:\\users\\user\\appdata\\local\\programs\\python\\python312\\lib\\site-packages (from scikit-Image) (1.26.2)\n",
      "Requirement already satisfied: scipy>=1.8 in c:\\users\\user\\appdata\\local\\programs\\python\\python312\\lib\\site-packages (from scikit-Image) (1.12.0)\n",
      "Requirement already satisfied: networkx>=2.8 in c:\\users\\user\\appdata\\local\\programs\\python\\python312\\lib\\site-packages (from scikit-Image) (3.2.1)\n",
      "Requirement already satisfied: pillow>=9.0.1 in c:\\users\\user\\appdata\\local\\programs\\python\\python312\\lib\\site-packages (from scikit-Image) (10.2.0)\n",
      "Requirement already satisfied: imageio>=2.27 in c:\\users\\user\\appdata\\local\\programs\\python\\python312\\lib\\site-packages (from scikit-Image) (2.34.0)\n",
      "Requirement already satisfied: tifffile>=2022.8.12 in c:\\users\\user\\appdata\\local\\programs\\python\\python312\\lib\\site-packages (from scikit-Image) (2024.2.12)\n",
      "Requirement already satisfied: packaging>=21 in c:\\users\\user\\appdata\\local\\programs\\python\\python312\\lib\\site-packages (from scikit-Image) (23.2)\n",
      "Requirement already satisfied: lazy_loader>=0.3 in c:\\users\\user\\appdata\\local\\programs\\python\\python312\\lib\\site-packages (from scikit-Image) (0.3)\n",
      "Note: you may need to restart the kernel to use updated packages.\n"
     ]
    },
    {
     "name": "stderr",
     "output_type": "stream",
     "text": [
      "\n",
      "[notice] A new release of pip is available: 23.2.1 -> 24.0\n",
      "[notice] To update, run: python.exe -m pip install --upgrade pip\n"
     ]
    }
   ],
   "source": [
    "pip install scikit-Image"
   ]
  },
  {
   "cell_type": "code",
   "execution_count": 2,
   "metadata": {},
   "outputs": [
    {
     "name": "stdout",
     "output_type": "stream",
     "text": [
      "Requirement already satisfied: scikit-learn in c:\\users\\user\\appdata\\local\\programs\\python\\python312\\lib\\site-packages (1.4.1.post1)\n",
      "Requirement already satisfied: numpy<2.0,>=1.19.5 in c:\\users\\user\\appdata\\local\\programs\\python\\python312\\lib\\site-packages (from scikit-learn) (1.26.2)\n",
      "Requirement already satisfied: scipy>=1.6.0 in c:\\users\\user\\appdata\\local\\programs\\python\\python312\\lib\\site-packages (from scikit-learn) (1.12.0)\n",
      "Requirement already satisfied: joblib>=1.2.0 in c:\\users\\user\\appdata\\local\\programs\\python\\python312\\lib\\site-packages (from scikit-learn) (1.3.2)\n",
      "Requirement already satisfied: threadpoolctl>=2.0.0 in c:\\users\\user\\appdata\\local\\programs\\python\\python312\\lib\\site-packages (from scikit-learn) (3.4.0)\n",
      "Note: you may need to restart the kernel to use updated packages.\n"
     ]
    },
    {
     "name": "stderr",
     "output_type": "stream",
     "text": [
      "\n",
      "[notice] A new release of pip is available: 23.2.1 -> 24.0\n",
      "[notice] To update, run: python.exe -m pip install --upgrade pip\n"
     ]
    }
   ],
   "source": [
    "pip install -U scikit-learn"
   ]
  },
  {
   "cell_type": "code",
   "execution_count": 7,
   "metadata": {},
   "outputs": [
    {
     "name": "stderr",
     "output_type": "stream",
     "text": [
      "<>:9: SyntaxWarning: invalid escape sequence '\\M'\n",
      "<>:9: SyntaxWarning: invalid escape sequence '\\M'\n",
      "C:\\Users\\User\\AppData\\Local\\Temp\\ipykernel_16096\\3748894563.py:9: SyntaxWarning: invalid escape sequence '\\M'\n",
      "  dataset_dir = 'D:\\ML\\datasetball'\n"
     ]
    },
    {
     "name": "stdout",
     "output_type": "stream",
     "text": [
      "Data Training (X_train):\n",
      "[[0.07481881 0.0749797  0.07556365 ... 0.34860346 0.14937409 0.11981551]\n",
      " [1.         1.         1.         ... 1.         1.         1.        ]\n",
      " [0.01466073 0.0146607  0.01450815 ... 0.19177008 0.18178492 0.18297374]\n",
      " ...\n",
      " [1.         1.         1.         ... 1.         1.         1.        ]\n",
      " [0.14357775 0.13945494 0.12901477 ... 0.24953092 0.24138823 0.23062418]\n",
      " [1.         1.         1.         ... 1.         1.         1.        ]]\n",
      "Label Training (y_train):\n",
      "[0 0 0 0 0 0 0 0 0 0 0 0 0 0 0 0 0 0 0 0 0 0 0 0 0 0 0 0 0 0 0 0 0 0 0 0 0\n",
      " 0 0 0 0 0 0 0 0 0 0 0 0 0 0 0 0 0 0 0 0 0 0 0 0 0 0 0 0 0 0 0 0 0 0 0 0 0\n",
      " 0 0 0 0 0 0 0 0 0 0 0 0 0 0 0 0 0 0 0 0 0 0 0 0 0 0 0 0 0 0 0 0 0 0 0 0 0\n",
      " 0 0 0 0 0 0 0 0 0 0 0 0 0 0 0 0 0 0 0 0 0 0 0 0 0 0 0 0 0 0 0 0 0 0 0 0 0\n",
      " 0 0 0 0 0 0 0 0 0 0 0 0 0 1 1 1 1 1 1 1 1 1 1 1 1 1 1 1 1 1 1 1 1 1 1 1 1\n",
      " 1 1 1 1 1 1 1 1 1 1 1 1 1 1 1 1 1 1 1 1 1 1 1 1 1 1 1 1 1 1 1 1 1 1 1 1 1\n",
      " 1 1 1 1 1 1 1 1 1 1 1 1 1 1 1 1 1 1 1 1 1 1 1 1 1 1 1 1 1 1 1 1 1 1 1 1 1\n",
      " 1 1 1 1 1 1 1 1 1 1 1 1 1 1 1 1 1 1 1 1 1 1 1 1 1 1 1 1 1 1 1 1 1 1 1 1 1\n",
      " 1 1 1 1 1 1 1 1 1 1 1 1 1 1 1 2 2 2 2 2 2 2 2 2 2 2 2 2 2 2 2 2 2 2 2 2 2\n",
      " 2 2 2 2 2 2 2 2 2 2 2 2 2 2 2 2 2 2 2 2 2 2 2 2 2 2 2 2 2 2 2 2 2 2 2 2 2\n",
      " 2 2 2 2 2 2 2 2 2 2 2 2 2 2 2 2 2 2 2 2 2 2 2 2 2 2 2 2 2 2 2 2 2 2 2 2 2\n",
      " 2 2 2 2 2 2 2 2 2 2 2 2 2 2 2 2 2 2 2 2 2 2 2 2 2 2 2 2 2 2 2 2 2 2 2 2 2\n",
      " 2 2 2 2 2 2 2 2 2 2 2 2 2 2 2 2 2 2 2 2 2 2]\n",
      "Hasil Prediksi (SVM):\n",
      "Gambar 1 : Prediksi = Billiard\n",
      "Gambar 2 : Prediksi = Table Tennis\n",
      "Gambar 3 : Prediksi = Football\n",
      "Hasil Prediksi (KNN):\n",
      "Gambar 1 : Prediksi=  Billiard\n",
      "Gambar 2 : Prediksi=  Table Tennis\n",
      "Gambar 3 : Prediksi=  Table Tennis\n",
      "Akurasi Model SVM (Data Training): 0.8175965665236051\n",
      "Akurasi Model KNN (Data Training): 0.6738197424892703\n"
     ]
    }
   ],
   "source": [
    "import os\n",
    "from sklearn.svm import SVC\n",
    "from sklearn.neighbors import KNeighborsClassifier\n",
    "from sklearn.metrics import accuracy_score\n",
    "from skimage import io, transform\n",
    "import numpy as np\n",
    "\n",
    "# Ganti dengan direktori yang berisi folder dataset\n",
    "dataset_dir = 'D:\\ML\\datasetball'\n",
    "\n",
    "# Inisialisasi daftar kelas dan label\n",
    "classes = ['Billiard', 'Football', 'Table Tennis']\n",
    "labels = [0, 1, 2]\n",
    "\n",
    "X_train = []\n",
    "y_train = []\n",
    "\n",
    "# Load data training\n",
    "for label, class_name in zip(labels, classes):\n",
    "    class_dir = os.path.join(dataset_dir, class_name)\n",
    "    \n",
    "    # Untuk setiap gambar dalam kelas\n",
    "    for image_name in os.listdir(class_dir):\n",
    "        image_path = os.path.join(class_dir, image_name)\n",
    "        \n",
    "        # Ubah gambar menjadi ukuran yang sama\n",
    "        image = io.imread(image_path, as_gray=True)\n",
    "        image = transform.resize(image, (100, 100))  # Ubah ukuran gambar menjadi 100x100\n",
    "        \n",
    "        # Ubah gambar menjadi larik nilai piksel\n",
    "        image_flattened = image.flatten()\n",
    "        \n",
    "        # Tambahkan gambar dan label kelas ke data training\n",
    "        X_train.append(image_flattened)\n",
    "        y_train.append(label)\n",
    "\n",
    "X_train = np.array(X_train)\n",
    "y_train = np.array(y_train)\n",
    "\n",
    "print(\"Data Training (X_train):\")\n",
    "print(X_train)\n",
    "print(\"Label Training (y_train):\")\n",
    "print(y_train)\n",
    "\n",
    "# Inisialisasi model SVM\n",
    "svm = SVC()\n",
    "\n",
    "# Latih model SVM menggunakan data training\n",
    "svm.fit(X_train, y_train)\n",
    "\n",
    "# Inisialisasi model KNN\n",
    "knn = KNeighborsClassifier()\n",
    "\n",
    "# Latih model KNN menggunakan data training\n",
    "knn.fit(X_train, y_train)\n",
    "\n",
    "# Load data testing\n",
    "X_test = []\n",
    "y_test = []\n",
    "test_dir = r'D:\\ML\\train'\n",
    "\n",
    "# Untuk setiap gambar dalam folder testing\n",
    "for image_name in os.listdir(test_dir):\n",
    "    image_path = os.path.join(test_dir, image_name)\n",
    "    \n",
    "    # Ubah gambar menjadi ukuran yang sama\n",
    "    image = io.imread(image_path, as_gray=True)\n",
    "    image = transform.resize(image, (100, 100))  # Ubah ukuran gambar menjadi 100x100\n",
    "    \n",
    "    # Ubah gambar menjadi larik nilai piksel\n",
    "    image_flattened = image.flatten()\n",
    "    \n",
    "    # Tambahkan gambar dan label kelas ke data testing\n",
    "    X_test.append(image_flattened)\n",
    "    # Tambahkan label dummy karena tidak diketahui\n",
    "    y_test.append(-1)\n",
    "\n",
    "X_test = np.array(X_test)\n",
    "y_test = np.array(y_test)\n",
    "\n",
    "# Prediksi kelas dari data testing menggunakan model SVM\n",
    "y_pred_svm = svm.predict(X_test)\n",
    "\n",
    "# Cetak hasil prediksi menggunakan model SVM\n",
    "print(\"Hasil Prediksi (SVM):\")\n",
    "for i, pred in enumerate(y_pred_svm):\n",
    "    class_name = classes[pred]\n",
    "    print(\"Gambar\", i+1, \": Prediksi =\", class_name)\n",
    "\n",
    "# Prediksi kelas dari data testing menggunakan model KNN\n",
    "y_pred_knn = knn.predict(X_test)\n",
    "\n",
    "# Cetak hasil prediksi menggunakan model KNN\n",
    "print(\"Hasil Prediksi (KNN):\")\n",
    "for i, pred in enumerate(y_pred_knn):\n",
    "    class_name = classes[pred]\n",
    "    print(\"Gambar\", i+1, \": Prediksi= \", class_name)\n",
    "\n",
    "# Evaluasi akurasi model SVM\n",
    "y_train_pred_svm = svm.predict(X_train)\n",
    "train_accuracy_svm = accuracy_score(y_train, y_train_pred_svm)\n",
    "print(\"Akurasi Model SVM (Data Training):\", train_accuracy_svm)\n",
    "\n",
    "# Evaluasi akurasi model KNN\n",
    "y_train_pred_knn = knn.predict(X_train)\n",
    "train_accuracy_knn = accuracy_score(y_train, y_train_pred_knn)\n",
    "print(\"Akurasi Model KNN (Data Training):\", train_accuracy_knn)"
   ]
  }
 ],
 "metadata": {
  "kernelspec": {
   "display_name": "Python 3",
   "language": "python",
   "name": "python3"
  },
  "language_info": {
   "codemirror_mode": {
    "name": "ipython",
    "version": 3
   },
   "file_extension": ".py",
   "mimetype": "text/x-python",
   "name": "python",
   "nbconvert_exporter": "python",
   "pygments_lexer": "ipython3",
   "version": "3.12.0"
  }
 },
 "nbformat": 4,
 "nbformat_minor": 2
}
